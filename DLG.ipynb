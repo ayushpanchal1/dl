{
  "nbformat": 4,
  "nbformat_minor": 0,
  "metadata": {
    "colab": {
      "provenance": []
    },
    "kernelspec": {
      "name": "python3",
      "display_name": "Python 3"
    },
    "language_info": {
      "name": "python"
    }
  },
  "cells": [
    {
      "cell_type": "markdown",
      "source": [
        "## Experiment no 1"
      ],
      "metadata": {
        "id": "ipXZrKZlYBf6"
      }
    },
    {
      "cell_type": "markdown",
      "source": [
        "The Goodness of Fit test is a statistical analysis used to determine if a sample of data matches a specific distribution. In simple terms, it checks how well the observed data aligns with a hypothesized probability distribution, like the normal distribution, binomial distribution, or others.\n",
        "\n",
        "There are several types of Goodness of Fit tests, but two common ones are:\n",
        "\n",
        "\n",
        "\n",
        "*   Chi-square Goodness of Fit Test: This test is commonly used for categorical data and compares observed frequencies to expected frequencies.\n",
        "*   Kolmogorov-Smirnov (K-S) Test: This test is used for continuous data and measures the maximum difference between the cumulative distribution of the observed data and the hypothesized distribution.\n",
        "\n",
        "\n",
        "\n"
      ],
      "metadata": {
        "id": "IDeGV4xTYO6f"
      }
    },
    {
      "cell_type": "markdown",
      "source": [
        "**Chi-Square Goodness of Fit Test**\n",
        "- The Chi-square goodness of fit test is a statistical hypothesis test used to determine whether a variable is likely to come from a specified distribution or not.\n",
        "- It is often used to evaluate whether sample data is representative of the full population.\n",
        "- Chi-Square goodness of fit test is a non-parametric test that is used to find out how the observed value of a given phenomena is significantly different from the expected value.\n",
        "- In Chi-Square goodness of fit test, the term goodness of fit is used to compare the observed sample distribution with the expected probability distribution.  \n",
        "- Chi-Square goodness of fit test determines how well theoretical distribution (such as normal, binomial, or Poisson) fits the empirical distribution.\n",
        "- In Chi-Square goodness of fit test, sample data is divided into intervals. Then the numbers of points that fall into the interval are compared, with the expected numbers of points in each interval.\n",
        "\n",
        "---\n",
        "**Hypothesis**\n",
        "- Null Hypothesis: In Chi-Square goodness of fit test, the null hypothesis assumes that *there is no significant difference between the observed and the expected value*.\n",
        "- Alternate Hypothesis: In Chi-Square goodness of fit test, the alternative hypothesis assumes that *there is a significant difference between the observed and the expected value*.\n",
        "\n",
        "---\n",
        "The test statistic for the chi-square (Χ2) goodness of fit test is Pearson’s chi-square:\n",
        "\n",
        "Formula\tExplanation\n",
        "![image.png](data:image/png;base64,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)\n",
        "\n",
        "---\n",
        "**Hypothesis Testing**\n",
        "- If the calculated value of Chi-Square Goodness of Fit is greater than the table value, we reject the null hypothesis and conclude that there is a significant difference between the observed and the expected frequency.\n",
        "- If the calculated value of Chi-Square Goodness of Fit is less than the table value, we accept the null hypothesis and conclude that there is no significant difference between the observed and the expected frequency."
      ],
      "metadata": {
        "id": "K3jYmQFdRRcX"
      }
    },
    {
      "cell_type": "markdown",
      "source": [
        "Hardcode function of chi square"
      ],
      "metadata": {
        "id": "SOWw9zhiUIYb"
      }
    },
    {
      "cell_type": "code",
      "execution_count": null,
      "metadata": {
        "id": "Lz3RS9MaRERT"
      },
      "outputs": [],
      "source": [
        "def chi_square_hardcore(observed_data , expected_data):\n",
        "  chi_square = 0;\n",
        "  n = len(observed_data)\n",
        "  for i in range(n):\n",
        "    chi_square += ((observed_data[i]-expected_data[i])**2)/expected_data[i]\n",
        "\n",
        "  return chi_square"
      ]
    },
    {
      "cell_type": "markdown",
      "source": [
        "Using builtin libraries"
      ],
      "metadata": {
        "id": "DxgnjqxBUPud"
      }
    },
    {
      "cell_type": "code",
      "source": [
        "from scipy import stats\n",
        "def chi_square_library(observed_data , expected_data):\n",
        "  chi_square_test_statistic, p_value = stats.chisquare(observed_data , expected_data)\n",
        "\n",
        "  return chi_square_test_statistic , p_value\n"
      ],
      "metadata": {
        "id": "7TfPuOLhUMAs"
      },
      "execution_count": null,
      "outputs": []
    },
    {
      "cell_type": "code",
      "source": [
        "observed_data = [8, 6, 10, 7, 8, 11, 9]\n",
        "expected_data = [9, 8, 11, 8, 10, 7, 6]\n",
        "\n",
        "chi1 = chi_square_hardcore(observed_data , expected_data)\n",
        "chi2, p_value = chi_square_library(observed_data , expected_data)\n",
        "\n",
        "print('Hardcoded value :', chi1)\n",
        "print('Library value : ' ,chi2)\n",
        "print('P value : ', p_value)"
      ],
      "metadata": {
        "colab": {
          "base_uri": "https://localhost:8080/"
        },
        "id": "Xj9IYy8mU8OL",
        "outputId": "9f573773-3e29-46f8-fdad-bdbfca6f69f4"
      },
      "execution_count": null,
      "outputs": [
        {
          "output_type": "stream",
          "name": "stdout",
          "text": [
            "Hardcoded value : 5.0127344877344875\n",
            "Library value :  5.0127344877344875\n",
            "P value :  0.542180861413329\n"
          ]
        }
      ]
    },
    {
      "cell_type": "code",
      "source": [
        "if(chi1< p_value):\n",
        "  print('We accpet the null hypothesis, No significant difference between observed and expected')\n",
        "else:\n",
        "  print('We reject the null hypotheses , There is difference between observed and expected')"
      ],
      "metadata": {
        "colab": {
          "base_uri": "https://localhost:8080/"
        },
        "id": "I65wK86nVws0",
        "outputId": "de7e9ad7-a9ab-4e21-d91e-2785047ab9eb"
      },
      "execution_count": null,
      "outputs": [
        {
          "output_type": "stream",
          "name": "stdout",
          "text": [
            "We reject the null hypotheses , There is difference between observed and expected\n"
          ]
        }
      ]
    },
    {
      "cell_type": "code",
      "source": [
        "if(chi2< p_value):\n",
        "  print('We accpet the null hypothesis, No significant difference between observed and expected')\n",
        "else:\n",
        "  print('We reject the null hypotheses , There is difference between observed and expected')"
      ],
      "metadata": {
        "colab": {
          "base_uri": "https://localhost:8080/"
        },
        "id": "7wJm7kChXtAC",
        "outputId": "5887d1fb-fb03-4bc0-d5d9-c4404abf2259"
      },
      "execution_count": null,
      "outputs": [
        {
          "output_type": "stream",
          "name": "stdout",
          "text": [
            "We reject the null hypotheses , There is difference between observed and expected\n"
          ]
        }
      ]
    },
    {
      "cell_type": "markdown",
      "source": [
        "**KS Test**\n",
        "- KS stands for \"Kolmogorov-Smirnov\"\n",
        "- This test is used in situations where a comparison has to be made between an observed sample distribution and theoretical distribution.\n",
        "- The Kolmogorov-Smirnov Goodness of Fit Test (K-S test) compares your data with a known distribution and lets you know if they have the same distribution.\n",
        "- As per Wikipedia, \"The Kolmogorov–Smirnov statistic quantifies a distance between the empirical distribution function of the sample and the cumulative distribution function of the reference distribution, or between the empirical distribution functions of two samples.\"\n",
        "- In probability theory and statistics, the cumulative distribution function (CDF) of a real-valued random variable , or just distribution function of , evaluated at , is the probability that will take a value less than or equal to.\n",
        "- An empirical cumulative distribution function (also called the empirical distribution function, ECDF, or just EDF) and a cumulative distribution function are basically the same thing: they are both probability models for data. However, while a CDF is a hypothetical model of a distribution, the ECDF models empirical (i.e. observed) data.\n",
        "---\n",
        "\n",
        "**KS One Sample Test:**\n",
        "This test is used as a test of goodness of fit and is ideal when the size of the sample is small. It compares the cumulative distribution function for a variable with a specified distribution. ***The null hypothesis assumes no difference between the observed and theoretical distribution*** and the value of test statistic 'D' is calculated as:\n",
        "\n",
        "**Formula** <br>\n",
        "D = Maximum|Fo(X)−Fr(X)|\n",
        "Where,\n",
        "- Fo(X) = Observed cumulative frequency distribution of a random sample of n observations.\n",
        "- Fo(X)=kn = (No.of observations ≤ X)/(Total no.of observations).\n",
        "- Fr(X) = The theoretical frequency distribution.\n",
        "\n",
        "*The critical value of D is found from the K-S table values for one sample test.*\n",
        "\n",
        "**Acceptance Criteria:** If calculated value is less than critical value accept null hypothesis.\n",
        "\n",
        "**Rejection Criteria:** If calculated value is greater than table value reject null hypothesis.\n",
        "\n",
        "---\n",
        "**KS Two Sample Test:**\n",
        "When instead of one, there are two independent samples then K-S two sample test can be used to test the agreement between two cumulative distributions. The null hypothesis states that there is no difference between the two distributions. The D-statistic is calculated in the same manner as the K-S One Sample Test.\n",
        "\n",
        "**Formula**\n",
        "D = Maximum|Fn1(X)−Fn2(X)|\n",
        "Where,\n",
        "- n1 = Observations from first sample.\n",
        "- n2 = Observations from second sample.\n",
        "\n",
        "<br>\n",
        "\n",
        "It has been seen that when the cumulative distributions show large maximum deviation |D| it is indicating towards a difference between the two sample distributions.\n",
        "\n",
        "The critical value of D for samples where n1=n2 and is ≤ 40, the K-S table for two sample case is used. When n1 and/or n2 > 40 then the K-S table for large samples of two sample test should be used. The null hypothesis is accepted if the calculated value is less than the table value and vice-versa.\n",
        "\n",
        "---\n",
        "**General Steps:**\n",
        "The general steps to run the test are:\n",
        "1. Create an EDF for your sample data (see Empirical Distribution Function for steps),\n",
        "2. Specify a parent distribution (i.e. one that you want to compare your EDF to)\n",
        "3. Graph the two distributions together.\n",
        "4. Measure the greatest vertical distance between the two graphs.\n",
        "5. Calculate the test statistic.\n",
        "6. Find the critical value in the KS table.\n",
        "7. Compare to the critical value.\n",
        "\n",
        "---\n",
        "**Advantages and Disadvantages** <br>\n",
        "Advantages include:\n",
        "- The test is distribution free. That means you don’t have to know the underlying population distribution for your data before running this test.\n",
        "- The D statistic (not to be confused with Cohen’s D) used for the test is easy to calculate.\n",
        "- It can be used as a goodness of fit test following regression analysis.\n",
        "- There are no restrictions on sample size; Small samples are acceptable.\n",
        "- Tables are readily available.\n",
        "\n",
        "\n",
        "Although the K-S test has many advantages, it also has a few limitations:\n",
        "\n",
        "- In order for the test to work, you must specify the location, scale, and shape parameters. If these parameters are estimated from the data, it invalidates the test. If you don’t know these parameters, you may want to run a less formal test (like the one outlined in the empirical distribution function article).\n",
        "- It generally can’t be used for discrete distributions, especially if you are using software (most software packages don’t have the necessary extensions for discrete K-S Test and the manual calculations are convoluted).\n",
        "- Sensitivity is higher at the center of the distribution and lower at the tails."
      ],
      "metadata": {
        "id": "w5D1CIagX6Et"
      }
    },
    {
      "cell_type": "code",
      "source": [
        "def ks_hardcode(observed_data, expected_data):\n",
        "  fo = []\n",
        "  ft = []\n",
        "  d = []\n",
        "  n = len(observed_data)\n",
        "  s = sum(observed_data)\n",
        "  fo.append(observed_data[0]/s)\n",
        "  ft.append(expected_data[0]/s)\n",
        "  for i in range(1, n):\n",
        "    fo.append(observed_data[i]/s + fo[i-1])\n",
        "    ft.append(expected_data[i]/s + ft[i-1])\n",
        "\n",
        "  for i in range(n):\n",
        "    if fo[i] > ft[i]:\n",
        "      d.append(fo[i] - ft[i])\n",
        "    else:\n",
        "      d.append(ft[i] - fo[i])\n",
        "\n",
        "  d0 = 1.36/(s**0.5)\n",
        "  return max(d), d0"
      ],
      "metadata": {
        "id": "cZw5mfM1XvuJ"
      },
      "execution_count": null,
      "outputs": []
    },
    {
      "cell_type": "code",
      "source": [
        "from scipy import stats\n",
        "import matplotlib.pyplot as plt\n",
        "\n",
        "def ks_library(observed_data, distribution):\n",
        "  ks2, p = stats.kstest(observed_data, distribution)\n",
        "  return ks2, p"
      ],
      "metadata": {
        "id": "E4vBS9JlyWOs"
      },
      "execution_count": null,
      "outputs": []
    },
    {
      "cell_type": "code",
      "source": [
        "observed_data = [5, 9, 11, 16, 19]\n",
        "expected_data = [12, 12, 12, 12, 12]\n",
        "\n",
        "ks1, d0 = ks_hardcode(observed_data, expected_data)\n",
        "print(ks1)\n",
        "print(d0)\n",
        "\n",
        "if (ks1 > d0):\n",
        "  print('Reject the Null Hypothesis')\n",
        "else:\n",
        "  print('Accept the Null Hypothesis')\n",
        "\n",
        "ks2, p = ks_library(observed_data, 'uniform')\n",
        "print(ks2)\n",
        "print(p)\n",
        "\n",
        "if (ks2 > p):\n",
        "  print('Reject the Null Hypothesis')\n",
        "else:\n",
        "  print('Accept the Null Hypothesis')"
      ],
      "metadata": {
        "colab": {
          "base_uri": "https://localhost:8080/"
        },
        "id": "SFEoKEOwyc6a",
        "outputId": "943b2d24-e0dd-4b2a-cff4-969eb4e01139"
      },
      "execution_count": null,
      "outputs": [
        {
          "output_type": "stream",
          "name": "stdout",
          "text": [
            "0.18333333333333346\n",
            "0.17557524502806957\n",
            "Reject the Null Hypothesis\n",
            "1.0\n",
            "0.0\n",
            "Reject the Null Hypothesis\n"
          ]
        }
      ]
    },
    {
      "cell_type": "markdown",
      "source": [
        "## Experiment no. 2- Ensemble learning"
      ],
      "metadata": {
        "id": "v8YcNdMryuP9"
      }
    },
    {
      "cell_type": "markdown",
      "source": [
        "Dataset link - https://www.kaggle.com/datasets/spscientist/telecom-data?resource=download"
      ],
      "metadata": {
        "id": "5Xs3jOaR3YlQ"
      }
    },
    {
      "cell_type": "code",
      "source": [
        "import pandas as pd\n",
        "import time\n",
        "import numpy as np\n",
        "df=pd.read_csv('/content/telecom_churn.csv')\n",
        "df\n",
        "\n",
        "x = df[['international plan', 'voice mail plan', 'total day charge', 'total eve charge', 'total night charge', 'total intl charge']]\n",
        "x['international plan'] = x['international plan'].map({'yes': 1, 'no': 0})\n",
        "x['voice mail plan'] = x['voice mail plan'].map({'yes': 1, 'no': 0})\n",
        "y = df['churn']\n",
        "\n"
      ],
      "metadata": {
        "colab": {
          "base_uri": "https://localhost:8080/"
        },
        "id": "boEnfx93yh_t",
        "outputId": "03f2b3d1-eee0-4f20-e900-d61fd9b967fb"
      },
      "execution_count": null,
      "outputs": [
        {
          "output_type": "stream",
          "name": "stderr",
          "text": [
            "<ipython-input-32-611c69a08fbc>:8: SettingWithCopyWarning: \n",
            "A value is trying to be set on a copy of a slice from a DataFrame.\n",
            "Try using .loc[row_indexer,col_indexer] = value instead\n",
            "\n",
            "See the caveats in the documentation: https://pandas.pydata.org/pandas-docs/stable/user_guide/indexing.html#returning-a-view-versus-a-copy\n",
            "  x['international plan'] = x['international plan'].map({'yes': 1, 'no': 0})\n",
            "<ipython-input-32-611c69a08fbc>:9: SettingWithCopyWarning: \n",
            "A value is trying to be set on a copy of a slice from a DataFrame.\n",
            "Try using .loc[row_indexer,col_indexer] = value instead\n",
            "\n",
            "See the caveats in the documentation: https://pandas.pydata.org/pandas-docs/stable/user_guide/indexing.html#returning-a-view-versus-a-copy\n",
            "  x['voice mail plan'] = x['voice mail plan'].map({'yes': 1, 'no': 0})\n"
          ]
        }
      ]
    },
    {
      "cell_type": "code",
      "source": [
        "#Central Model using SVM\n",
        "from sklearn.svm import SVC\n",
        "from sklearn.model_selection import train_test_split\n",
        "from sklearn.metrics import accuracy_score\n",
        "\n",
        "# Split the dataset into train and test sets\n",
        "X_train, X_test, y_train, y_test = train_test_split(x, y, test_size=0.2, random_state=42)\n",
        "\n",
        "# Train the SVM model\n",
        "central_model = SVC(random_state=42)\n",
        "central_model.fit(X_train, y_train)\n",
        "\n",
        "# Predict and evaluate the centralized model\n",
        "y_pred_central = central_model.predict(X_test)\n",
        "central_model_accuracy = accuracy_score(y_test, y_pred_central)\n",
        "print(f'Central Model Accuracy: {central_model_accuracy}')\n",
        "\n",
        "#Dividing Dataset\n",
        "from sklearn.ensemble import RandomForestClassifier\n",
        "from sklearn.linear_model import LogisticRegression\n",
        "from sklearn.tree import DecisionTreeClassifier\n",
        "\n",
        "X_part1, X_temp, y_part1, y_temp = train_test_split(X_train, y_train, test_size=0.67, random_state=42)\n",
        "X_part2, X_part3, y_part2, y_part3 = train_test_split(X_temp, y_temp, test_size=0.5, random_state=42)\n",
        "\n",
        "model1 = DecisionTreeClassifier(random_state=42)\n",
        "model1.fit(X_part1, y_part1)\n",
        "\n",
        "model2 = RandomForestClassifier(random_state=42)\n",
        "model2.fit(X_part2, y_part2)\n",
        "\n",
        "model3 = LogisticRegression(random_state=42, max_iter=1000)\n",
        "model3.fit(X_part3, y_part3)\n",
        "\n",
        "\n"
      ],
      "metadata": {
        "colab": {
          "base_uri": "https://localhost:8080/",
          "height": 98
        },
        "id": "ZtAgOFHH1jG6",
        "outputId": "f936eee4-dd4e-4cc6-fa38-610bbcddac62"
      },
      "execution_count": null,
      "outputs": [
        {
          "output_type": "stream",
          "name": "stdout",
          "text": [
            "Central Model Accuracy: 0.8665667166416792\n"
          ]
        },
        {
          "output_type": "execute_result",
          "data": {
            "text/plain": [
              "LogisticRegression(max_iter=1000, random_state=42)"
            ],
            "text/html": [
              "<style>#sk-container-id-1 {\n",
              "  /* Definition of color scheme common for light and dark mode */\n",
              "  --sklearn-color-text: black;\n",
              "  --sklearn-color-line: gray;\n",
              "  /* Definition of color scheme for unfitted estimators */\n",
              "  --sklearn-color-unfitted-level-0: #fff5e6;\n",
              "  --sklearn-color-unfitted-level-1: #f6e4d2;\n",
              "  --sklearn-color-unfitted-level-2: #ffe0b3;\n",
              "  --sklearn-color-unfitted-level-3: chocolate;\n",
              "  /* Definition of color scheme for fitted estimators */\n",
              "  --sklearn-color-fitted-level-0: #f0f8ff;\n",
              "  --sklearn-color-fitted-level-1: #d4ebff;\n",
              "  --sklearn-color-fitted-level-2: #b3dbfd;\n",
              "  --sklearn-color-fitted-level-3: cornflowerblue;\n",
              "\n",
              "  /* Specific color for light theme */\n",
              "  --sklearn-color-text-on-default-background: var(--sg-text-color, var(--theme-code-foreground, var(--jp-content-font-color1, black)));\n",
              "  --sklearn-color-background: var(--sg-background-color, var(--theme-background, var(--jp-layout-color0, white)));\n",
              "  --sklearn-color-border-box: var(--sg-text-color, var(--theme-code-foreground, var(--jp-content-font-color1, black)));\n",
              "  --sklearn-color-icon: #696969;\n",
              "\n",
              "  @media (prefers-color-scheme: dark) {\n",
              "    /* Redefinition of color scheme for dark theme */\n",
              "    --sklearn-color-text-on-default-background: var(--sg-text-color, var(--theme-code-foreground, var(--jp-content-font-color1, white)));\n",
              "    --sklearn-color-background: var(--sg-background-color, var(--theme-background, var(--jp-layout-color0, #111)));\n",
              "    --sklearn-color-border-box: var(--sg-text-color, var(--theme-code-foreground, var(--jp-content-font-color1, white)));\n",
              "    --sklearn-color-icon: #878787;\n",
              "  }\n",
              "}\n",
              "\n",
              "#sk-container-id-1 {\n",
              "  color: var(--sklearn-color-text);\n",
              "}\n",
              "\n",
              "#sk-container-id-1 pre {\n",
              "  padding: 0;\n",
              "}\n",
              "\n",
              "#sk-container-id-1 input.sk-hidden--visually {\n",
              "  border: 0;\n",
              "  clip: rect(1px 1px 1px 1px);\n",
              "  clip: rect(1px, 1px, 1px, 1px);\n",
              "  height: 1px;\n",
              "  margin: -1px;\n",
              "  overflow: hidden;\n",
              "  padding: 0;\n",
              "  position: absolute;\n",
              "  width: 1px;\n",
              "}\n",
              "\n",
              "#sk-container-id-1 div.sk-dashed-wrapped {\n",
              "  border: 1px dashed var(--sklearn-color-line);\n",
              "  margin: 0 0.4em 0.5em 0.4em;\n",
              "  box-sizing: border-box;\n",
              "  padding-bottom: 0.4em;\n",
              "  background-color: var(--sklearn-color-background);\n",
              "}\n",
              "\n",
              "#sk-container-id-1 div.sk-container {\n",
              "  /* jupyter's `normalize.less` sets `[hidden] { display: none; }`\n",
              "     but bootstrap.min.css set `[hidden] { display: none !important; }`\n",
              "     so we also need the `!important` here to be able to override the\n",
              "     default hidden behavior on the sphinx rendered scikit-learn.org.\n",
              "     See: https://github.com/scikit-learn/scikit-learn/issues/21755 */\n",
              "  display: inline-block !important;\n",
              "  position: relative;\n",
              "}\n",
              "\n",
              "#sk-container-id-1 div.sk-text-repr-fallback {\n",
              "  display: none;\n",
              "}\n",
              "\n",
              "div.sk-parallel-item,\n",
              "div.sk-serial,\n",
              "div.sk-item {\n",
              "  /* draw centered vertical line to link estimators */\n",
              "  background-image: linear-gradient(var(--sklearn-color-text-on-default-background), var(--sklearn-color-text-on-default-background));\n",
              "  background-size: 2px 100%;\n",
              "  background-repeat: no-repeat;\n",
              "  background-position: center center;\n",
              "}\n",
              "\n",
              "/* Parallel-specific style estimator block */\n",
              "\n",
              "#sk-container-id-1 div.sk-parallel-item::after {\n",
              "  content: \"\";\n",
              "  width: 100%;\n",
              "  border-bottom: 2px solid var(--sklearn-color-text-on-default-background);\n",
              "  flex-grow: 1;\n",
              "}\n",
              "\n",
              "#sk-container-id-1 div.sk-parallel {\n",
              "  display: flex;\n",
              "  align-items: stretch;\n",
              "  justify-content: center;\n",
              "  background-color: var(--sklearn-color-background);\n",
              "  position: relative;\n",
              "}\n",
              "\n",
              "#sk-container-id-1 div.sk-parallel-item {\n",
              "  display: flex;\n",
              "  flex-direction: column;\n",
              "}\n",
              "\n",
              "#sk-container-id-1 div.sk-parallel-item:first-child::after {\n",
              "  align-self: flex-end;\n",
              "  width: 50%;\n",
              "}\n",
              "\n",
              "#sk-container-id-1 div.sk-parallel-item:last-child::after {\n",
              "  align-self: flex-start;\n",
              "  width: 50%;\n",
              "}\n",
              "\n",
              "#sk-container-id-1 div.sk-parallel-item:only-child::after {\n",
              "  width: 0;\n",
              "}\n",
              "\n",
              "/* Serial-specific style estimator block */\n",
              "\n",
              "#sk-container-id-1 div.sk-serial {\n",
              "  display: flex;\n",
              "  flex-direction: column;\n",
              "  align-items: center;\n",
              "  background-color: var(--sklearn-color-background);\n",
              "  padding-right: 1em;\n",
              "  padding-left: 1em;\n",
              "}\n",
              "\n",
              "\n",
              "/* Toggleable style: style used for estimator/Pipeline/ColumnTransformer box that is\n",
              "clickable and can be expanded/collapsed.\n",
              "- Pipeline and ColumnTransformer use this feature and define the default style\n",
              "- Estimators will overwrite some part of the style using the `sk-estimator` class\n",
              "*/\n",
              "\n",
              "/* Pipeline and ColumnTransformer style (default) */\n",
              "\n",
              "#sk-container-id-1 div.sk-toggleable {\n",
              "  /* Default theme specific background. It is overwritten whether we have a\n",
              "  specific estimator or a Pipeline/ColumnTransformer */\n",
              "  background-color: var(--sklearn-color-background);\n",
              "}\n",
              "\n",
              "/* Toggleable label */\n",
              "#sk-container-id-1 label.sk-toggleable__label {\n",
              "  cursor: pointer;\n",
              "  display: block;\n",
              "  width: 100%;\n",
              "  margin-bottom: 0;\n",
              "  padding: 0.5em;\n",
              "  box-sizing: border-box;\n",
              "  text-align: center;\n",
              "}\n",
              "\n",
              "#sk-container-id-1 label.sk-toggleable__label-arrow:before {\n",
              "  /* Arrow on the left of the label */\n",
              "  content: \"▸\";\n",
              "  float: left;\n",
              "  margin-right: 0.25em;\n",
              "  color: var(--sklearn-color-icon);\n",
              "}\n",
              "\n",
              "#sk-container-id-1 label.sk-toggleable__label-arrow:hover:before {\n",
              "  color: var(--sklearn-color-text);\n",
              "}\n",
              "\n",
              "/* Toggleable content - dropdown */\n",
              "\n",
              "#sk-container-id-1 div.sk-toggleable__content {\n",
              "  max-height: 0;\n",
              "  max-width: 0;\n",
              "  overflow: hidden;\n",
              "  text-align: left;\n",
              "  /* unfitted */\n",
              "  background-color: var(--sklearn-color-unfitted-level-0);\n",
              "}\n",
              "\n",
              "#sk-container-id-1 div.sk-toggleable__content.fitted {\n",
              "  /* fitted */\n",
              "  background-color: var(--sklearn-color-fitted-level-0);\n",
              "}\n",
              "\n",
              "#sk-container-id-1 div.sk-toggleable__content pre {\n",
              "  margin: 0.2em;\n",
              "  border-radius: 0.25em;\n",
              "  color: var(--sklearn-color-text);\n",
              "  /* unfitted */\n",
              "  background-color: var(--sklearn-color-unfitted-level-0);\n",
              "}\n",
              "\n",
              "#sk-container-id-1 div.sk-toggleable__content.fitted pre {\n",
              "  /* unfitted */\n",
              "  background-color: var(--sklearn-color-fitted-level-0);\n",
              "}\n",
              "\n",
              "#sk-container-id-1 input.sk-toggleable__control:checked~div.sk-toggleable__content {\n",
              "  /* Expand drop-down */\n",
              "  max-height: 200px;\n",
              "  max-width: 100%;\n",
              "  overflow: auto;\n",
              "}\n",
              "\n",
              "#sk-container-id-1 input.sk-toggleable__control:checked~label.sk-toggleable__label-arrow:before {\n",
              "  content: \"▾\";\n",
              "}\n",
              "\n",
              "/* Pipeline/ColumnTransformer-specific style */\n",
              "\n",
              "#sk-container-id-1 div.sk-label input.sk-toggleable__control:checked~label.sk-toggleable__label {\n",
              "  color: var(--sklearn-color-text);\n",
              "  background-color: var(--sklearn-color-unfitted-level-2);\n",
              "}\n",
              "\n",
              "#sk-container-id-1 div.sk-label.fitted input.sk-toggleable__control:checked~label.sk-toggleable__label {\n",
              "  background-color: var(--sklearn-color-fitted-level-2);\n",
              "}\n",
              "\n",
              "/* Estimator-specific style */\n",
              "\n",
              "/* Colorize estimator box */\n",
              "#sk-container-id-1 div.sk-estimator input.sk-toggleable__control:checked~label.sk-toggleable__label {\n",
              "  /* unfitted */\n",
              "  background-color: var(--sklearn-color-unfitted-level-2);\n",
              "}\n",
              "\n",
              "#sk-container-id-1 div.sk-estimator.fitted input.sk-toggleable__control:checked~label.sk-toggleable__label {\n",
              "  /* fitted */\n",
              "  background-color: var(--sklearn-color-fitted-level-2);\n",
              "}\n",
              "\n",
              "#sk-container-id-1 div.sk-label label.sk-toggleable__label,\n",
              "#sk-container-id-1 div.sk-label label {\n",
              "  /* The background is the default theme color */\n",
              "  color: var(--sklearn-color-text-on-default-background);\n",
              "}\n",
              "\n",
              "/* On hover, darken the color of the background */\n",
              "#sk-container-id-1 div.sk-label:hover label.sk-toggleable__label {\n",
              "  color: var(--sklearn-color-text);\n",
              "  background-color: var(--sklearn-color-unfitted-level-2);\n",
              "}\n",
              "\n",
              "/* Label box, darken color on hover, fitted */\n",
              "#sk-container-id-1 div.sk-label.fitted:hover label.sk-toggleable__label.fitted {\n",
              "  color: var(--sklearn-color-text);\n",
              "  background-color: var(--sklearn-color-fitted-level-2);\n",
              "}\n",
              "\n",
              "/* Estimator label */\n",
              "\n",
              "#sk-container-id-1 div.sk-label label {\n",
              "  font-family: monospace;\n",
              "  font-weight: bold;\n",
              "  display: inline-block;\n",
              "  line-height: 1.2em;\n",
              "}\n",
              "\n",
              "#sk-container-id-1 div.sk-label-container {\n",
              "  text-align: center;\n",
              "}\n",
              "\n",
              "/* Estimator-specific */\n",
              "#sk-container-id-1 div.sk-estimator {\n",
              "  font-family: monospace;\n",
              "  border: 1px dotted var(--sklearn-color-border-box);\n",
              "  border-radius: 0.25em;\n",
              "  box-sizing: border-box;\n",
              "  margin-bottom: 0.5em;\n",
              "  /* unfitted */\n",
              "  background-color: var(--sklearn-color-unfitted-level-0);\n",
              "}\n",
              "\n",
              "#sk-container-id-1 div.sk-estimator.fitted {\n",
              "  /* fitted */\n",
              "  background-color: var(--sklearn-color-fitted-level-0);\n",
              "}\n",
              "\n",
              "/* on hover */\n",
              "#sk-container-id-1 div.sk-estimator:hover {\n",
              "  /* unfitted */\n",
              "  background-color: var(--sklearn-color-unfitted-level-2);\n",
              "}\n",
              "\n",
              "#sk-container-id-1 div.sk-estimator.fitted:hover {\n",
              "  /* fitted */\n",
              "  background-color: var(--sklearn-color-fitted-level-2);\n",
              "}\n",
              "\n",
              "/* Specification for estimator info (e.g. \"i\" and \"?\") */\n",
              "\n",
              "/* Common style for \"i\" and \"?\" */\n",
              "\n",
              ".sk-estimator-doc-link,\n",
              "a:link.sk-estimator-doc-link,\n",
              "a:visited.sk-estimator-doc-link {\n",
              "  float: right;\n",
              "  font-size: smaller;\n",
              "  line-height: 1em;\n",
              "  font-family: monospace;\n",
              "  background-color: var(--sklearn-color-background);\n",
              "  border-radius: 1em;\n",
              "  height: 1em;\n",
              "  width: 1em;\n",
              "  text-decoration: none !important;\n",
              "  margin-left: 1ex;\n",
              "  /* unfitted */\n",
              "  border: var(--sklearn-color-unfitted-level-1) 1pt solid;\n",
              "  color: var(--sklearn-color-unfitted-level-1);\n",
              "}\n",
              "\n",
              ".sk-estimator-doc-link.fitted,\n",
              "a:link.sk-estimator-doc-link.fitted,\n",
              "a:visited.sk-estimator-doc-link.fitted {\n",
              "  /* fitted */\n",
              "  border: var(--sklearn-color-fitted-level-1) 1pt solid;\n",
              "  color: var(--sklearn-color-fitted-level-1);\n",
              "}\n",
              "\n",
              "/* On hover */\n",
              "div.sk-estimator:hover .sk-estimator-doc-link:hover,\n",
              ".sk-estimator-doc-link:hover,\n",
              "div.sk-label-container:hover .sk-estimator-doc-link:hover,\n",
              ".sk-estimator-doc-link:hover {\n",
              "  /* unfitted */\n",
              "  background-color: var(--sklearn-color-unfitted-level-3);\n",
              "  color: var(--sklearn-color-background);\n",
              "  text-decoration: none;\n",
              "}\n",
              "\n",
              "div.sk-estimator.fitted:hover .sk-estimator-doc-link.fitted:hover,\n",
              ".sk-estimator-doc-link.fitted:hover,\n",
              "div.sk-label-container:hover .sk-estimator-doc-link.fitted:hover,\n",
              ".sk-estimator-doc-link.fitted:hover {\n",
              "  /* fitted */\n",
              "  background-color: var(--sklearn-color-fitted-level-3);\n",
              "  color: var(--sklearn-color-background);\n",
              "  text-decoration: none;\n",
              "}\n",
              "\n",
              "/* Span, style for the box shown on hovering the info icon */\n",
              ".sk-estimator-doc-link span {\n",
              "  display: none;\n",
              "  z-index: 9999;\n",
              "  position: relative;\n",
              "  font-weight: normal;\n",
              "  right: .2ex;\n",
              "  padding: .5ex;\n",
              "  margin: .5ex;\n",
              "  width: min-content;\n",
              "  min-width: 20ex;\n",
              "  max-width: 50ex;\n",
              "  color: var(--sklearn-color-text);\n",
              "  box-shadow: 2pt 2pt 4pt #999;\n",
              "  /* unfitted */\n",
              "  background: var(--sklearn-color-unfitted-level-0);\n",
              "  border: .5pt solid var(--sklearn-color-unfitted-level-3);\n",
              "}\n",
              "\n",
              ".sk-estimator-doc-link.fitted span {\n",
              "  /* fitted */\n",
              "  background: var(--sklearn-color-fitted-level-0);\n",
              "  border: var(--sklearn-color-fitted-level-3);\n",
              "}\n",
              "\n",
              ".sk-estimator-doc-link:hover span {\n",
              "  display: block;\n",
              "}\n",
              "\n",
              "/* \"?\"-specific style due to the `<a>` HTML tag */\n",
              "\n",
              "#sk-container-id-1 a.estimator_doc_link {\n",
              "  float: right;\n",
              "  font-size: 1rem;\n",
              "  line-height: 1em;\n",
              "  font-family: monospace;\n",
              "  background-color: var(--sklearn-color-background);\n",
              "  border-radius: 1rem;\n",
              "  height: 1rem;\n",
              "  width: 1rem;\n",
              "  text-decoration: none;\n",
              "  /* unfitted */\n",
              "  color: var(--sklearn-color-unfitted-level-1);\n",
              "  border: var(--sklearn-color-unfitted-level-1) 1pt solid;\n",
              "}\n",
              "\n",
              "#sk-container-id-1 a.estimator_doc_link.fitted {\n",
              "  /* fitted */\n",
              "  border: var(--sklearn-color-fitted-level-1) 1pt solid;\n",
              "  color: var(--sklearn-color-fitted-level-1);\n",
              "}\n",
              "\n",
              "/* On hover */\n",
              "#sk-container-id-1 a.estimator_doc_link:hover {\n",
              "  /* unfitted */\n",
              "  background-color: var(--sklearn-color-unfitted-level-3);\n",
              "  color: var(--sklearn-color-background);\n",
              "  text-decoration: none;\n",
              "}\n",
              "\n",
              "#sk-container-id-1 a.estimator_doc_link.fitted:hover {\n",
              "  /* fitted */\n",
              "  background-color: var(--sklearn-color-fitted-level-3);\n",
              "}\n",
              "</style><div id=\"sk-container-id-1\" class=\"sk-top-container\"><div class=\"sk-text-repr-fallback\"><pre>LogisticRegression(max_iter=1000, random_state=42)</pre><b>In a Jupyter environment, please rerun this cell to show the HTML representation or trust the notebook. <br />On GitHub, the HTML representation is unable to render, please try loading this page with nbviewer.org.</b></div><div class=\"sk-container\" hidden><div class=\"sk-item\"><div class=\"sk-estimator fitted sk-toggleable\"><input class=\"sk-toggleable__control sk-hidden--visually\" id=\"sk-estimator-id-1\" type=\"checkbox\" checked><label for=\"sk-estimator-id-1\" class=\"sk-toggleable__label fitted sk-toggleable__label-arrow fitted\">&nbsp;&nbsp;LogisticRegression<a class=\"sk-estimator-doc-link fitted\" rel=\"noreferrer\" target=\"_blank\" href=\"https://scikit-learn.org/1.5/modules/generated/sklearn.linear_model.LogisticRegression.html\">?<span>Documentation for LogisticRegression</span></a><span class=\"sk-estimator-doc-link fitted\">i<span>Fitted</span></span></label><div class=\"sk-toggleable__content fitted\"><pre>LogisticRegression(max_iter=1000, random_state=42)</pre></div> </div></div></div></div>"
            ]
          },
          "metadata": {},
          "execution_count": 35
        }
      ]
    },
    {
      "cell_type": "code",
      "source": [
        "#Ensembled Dataset\n",
        "from sklearn.ensemble import VotingClassifier\n",
        "\n",
        "# Voting Classifier\n",
        "ensemble_model = VotingClassifier(estimators=[\n",
        "    ('dt', model1),\n",
        "    ('rf', model2),\n",
        "    ('lr', model3)\n",
        "], voting='hard')\n",
        "\n",
        "ensemble_model.fit(X_train, y_train)\n",
        "\n",
        "y_pred_ensemble = ensemble_model.predict(X_test)\n",
        "ensemble_model_accuracy = accuracy_score(y_test, y_pred_ensemble)\n",
        "print(f'Ensemble Model Accuracy: {ensemble_model_accuracy}')\n",
        "\n",
        "#Compare\n",
        "print(f'Central Model Accuracy: {central_model_accuracy}')\n",
        "print(f'Ensemble Model Accuracy: {ensemble_model_accuracy}')"
      ],
      "metadata": {
        "colab": {
          "base_uri": "https://localhost:8080/"
        },
        "id": "031g4GY623FZ",
        "outputId": "1e79fcb7-d61e-48e6-df95-d0edeb3474da"
      },
      "execution_count": null,
      "outputs": [
        {
          "output_type": "stream",
          "name": "stdout",
          "text": [
            "Ensemble Model Accuracy: 0.9145427286356822\n",
            "Central Model Accuracy: 0.8665667166416792\n",
            "Ensemble Model Accuracy: 0.9145427286356822\n"
          ]
        }
      ]
    },
    {
      "cell_type": "markdown",
      "source": [
        "Confusion matrix"
      ],
      "metadata": {
        "id": "7l64P30j4Jhw"
      }
    },
    {
      "cell_type": "code",
      "source": [
        "from sklearn.metrics import confusion_matrix\n",
        "\n",
        "# Confusion matrix for the centralized model\n",
        "conf_matrix_central = confusion_matrix(y_test, y_pred_central)\n",
        "print(\"Central Model Confusion Matrix:\")\n",
        "print(conf_matrix_central)\n",
        "\n",
        "# Confusion matrix for the ensemble model\n",
        "conf_matrix_ensemble = confusion_matrix(y_test, y_pred_ensemble)\n",
        "print(\"Ensemble Model Confusion Matrix:\")\n",
        "print(conf_matrix_ensemble)\n"
      ],
      "metadata": {
        "colab": {
          "base_uri": "https://localhost:8080/"
        },
        "id": "Ntb3Zngf23Wu",
        "outputId": "298cc13e-6dbf-404f-f360-e810a1fe8e90"
      },
      "execution_count": null,
      "outputs": [
        {
          "output_type": "stream",
          "name": "stdout",
          "text": [
            "Central Model Confusion Matrix:\n",
            "[[566   0]\n",
            " [ 89  12]]\n",
            "Ensemble Model Confusion Matrix:\n",
            "[[560   6]\n",
            " [ 51  50]]\n"
          ]
        }
      ]
    },
    {
      "cell_type": "markdown",
      "source": [
        "### Experiment no. 3 - Incremental learning"
      ],
      "metadata": {
        "id": "5ugGCnHX6wwI"
      }
    },
    {
      "cell_type": "code",
      "source": [
        "import pandas as pd\n",
        "from sklearn.linear_model import SGDClassifier\n",
        "from sklearn.model_selection import train_test_split\n",
        "from sklearn.metrics import accuracy_score, confusion_matrix\n",
        "\n",
        "# Load dataset\n",
        "df = pd.read_csv('/content/telecom_churn.csv')\n",
        "\n",
        "# Feature selection and encoding\n",
        "x = df[['international plan', 'voice mail plan', 'total day charge', 'total eve charge', 'total night charge', 'total intl charge']]\n",
        "x['international plan'] = x['international plan'].map({'yes': 1, 'no': 0})\n",
        "x['voice mail plan'] = x['voice mail plan'].map({'yes': 1, 'no': 0})\n",
        "y = df['churn']\n",
        "\n",
        "# Split the dataset into training and test sets\n",
        "X_train, X_test, y_train, y_test = train_test_split(x, y, test_size=0.2, random_state=42)\n",
        "\n",
        "\n",
        "\n"
      ],
      "metadata": {
        "colab": {
          "base_uri": "https://localhost:8080/"
        },
        "id": "VZLSFHYH4M25",
        "outputId": "e0bea3e6-c110-4bea-ce37-1e248c98ea04"
      },
      "execution_count": null,
      "outputs": [
        {
          "output_type": "stream",
          "name": "stderr",
          "text": [
            "<ipython-input-38-ade6bd758a40>:11: SettingWithCopyWarning: \n",
            "A value is trying to be set on a copy of a slice from a DataFrame.\n",
            "Try using .loc[row_indexer,col_indexer] = value instead\n",
            "\n",
            "See the caveats in the documentation: https://pandas.pydata.org/pandas-docs/stable/user_guide/indexing.html#returning-a-view-versus-a-copy\n",
            "  x['international plan'] = x['international plan'].map({'yes': 1, 'no': 0})\n",
            "<ipython-input-38-ade6bd758a40>:12: SettingWithCopyWarning: \n",
            "A value is trying to be set on a copy of a slice from a DataFrame.\n",
            "Try using .loc[row_indexer,col_indexer] = value instead\n",
            "\n",
            "See the caveats in the documentation: https://pandas.pydata.org/pandas-docs/stable/user_guide/indexing.html#returning-a-view-versus-a-copy\n",
            "  x['voice mail plan'] = x['voice mail plan'].map({'yes': 1, 'no': 0})\n"
          ]
        }
      ]
    },
    {
      "cell_type": "code",
      "source": [
        "# Initialize the SGDClassifier (supports incremental learning)\n",
        "incremental_model = SGDClassifier(random_state=42)\n",
        "\n",
        "# Split the training data into smaller chunks for incremental learning\n",
        "batch_size = 100  # Define a batch size for incremental updates\n",
        "num_batches = len(X_train) // batch_size\n",
        "\n",
        "# Train incrementally on each batch\n",
        "for i in range(0, len(X_train), batch_size):\n",
        "    end = i + batch_size if (i + batch_size) < len(X_train) else len(X_train)\n",
        "    X_batch = X_train[i:end]\n",
        "    y_batch = y_train[i:end]\n",
        "    incremental_model.partial_fit(X_batch, y_batch, classes=[0, 1])\n",
        "\n"
      ],
      "metadata": {
        "id": "BRk67Oux661u"
      },
      "execution_count": null,
      "outputs": []
    },
    {
      "cell_type": "code",
      "source": [
        "# Evaluate on test data\n",
        "y_pred_incremental = incremental_model.predict(X_test)\n",
        "incremental_model_accuracy = accuracy_score(y_test, y_pred_incremental)\n",
        "print(f'Incremental Model Accuracy: {incremental_model_accuracy}')\n",
        "\n"
      ],
      "metadata": {
        "colab": {
          "base_uri": "https://localhost:8080/"
        },
        "id": "JbFFojYQ69RO",
        "outputId": "f1d41b32-5f00-4f5d-af58-479b7c7d7f28"
      },
      "execution_count": null,
      "outputs": [
        {
          "output_type": "stream",
          "name": "stdout",
          "text": [
            "Incremental Model Accuracy: 0.848575712143928\n"
          ]
        }
      ]
    },
    {
      "cell_type": "code",
      "source": [
        "# Confusion Matrix\n",
        "conf_matrix_incremental = confusion_matrix(y_test, y_pred_incremental)\n",
        "print(\"Incremental Model Confusion Matrix:\")\n",
        "print(conf_matrix_incremental)"
      ],
      "metadata": {
        "colab": {
          "base_uri": "https://localhost:8080/"
        },
        "id": "2bwjpDln6_JC",
        "outputId": "d883b0db-49ba-411d-fed5-92f6ae458320"
      },
      "execution_count": null,
      "outputs": [
        {
          "output_type": "stream",
          "name": "stdout",
          "text": [
            "Incremental Model Confusion Matrix:\n",
            "[[566   0]\n",
            " [101   0]]\n"
          ]
        }
      ]
    },
    {
      "cell_type": "markdown",
      "source": [
        "### Experiment Neural Network for predictions"
      ],
      "metadata": {
        "id": "M7h0Zm_kLHAe"
      }
    },
    {
      "cell_type": "code",
      "source": [
        "import tensorflow as tf\n",
        "from tensorflow import keras\n",
        "from sklearn.datasets import load_iris\n",
        "from sklearn.model_selection import train_test_split\n",
        "from sklearn.preprocessing import StandardScaler\n",
        "\n",
        "# Load the Iris dataset\n",
        "iris = load_iris()\n",
        "X = iris.data\n",
        "y = iris.target\n",
        "\n",
        "# Split data into training and testing sets\n",
        "X_train, X_test, y_train, y_test = train_test_split(X, y, test_size=0.2, random_state=42)\n",
        "\n",
        "# Scale the data\n",
        "scaler = StandardScaler()\n",
        "X_train = scaler.fit_transform(X_train)\n",
        "X_test = scaler.transform(X_test)\n",
        "\n",
        "# Convert labels to one-hot encoding\n",
        "y_train = keras.utils.to_categorical(y_train, num_classes=3)\n",
        "y_test = keras.utils.to_categorical(y_test, num_classes=3)\n",
        "\n",
        "# Define the neural network model\n",
        "model = keras.Sequential([\n",
        "    keras.layers.Dense(10, activation='relu', input_shape=(4,)),\n",
        "    keras.layers.Dense(3, activation='softmax')\n",
        "])\n",
        "\n",
        "# Compile the model\n",
        "model.compile(optimizer='adam', loss='categorical_crossentropy', metrics=['accuracy'])\n",
        "\n",
        "# Train the model\n",
        "model.fit(X_train, y_train, epochs=50, batch_size=10, verbose=1)\n",
        "\n",
        "# Evaluate the model\n",
        "loss, accuracy = model.evaluate(X_test, y_test, verbose=0)\n",
        "print('Test loss:', loss)\n",
        "print('Test accuracy:', accuracy)\n",
        "\n",
        "# Make predictions\n",
        "y_pred = model.predict(X_test)\n",
        "y_pred_classes = y_pred.argmax(axis=1)\n",
        "y_true_classes = y_test.argmax(axis=1)\n",
        "\n",
        "# Analyze performance (e.g., confusion matrix, classification report)\n",
        "from sklearn.metrics import classification_report, confusion_matrix\n",
        "print(classification_report(y_true_classes, y_pred_classes))\n",
        "print(confusion_matrix(y_true_classes, y_pred_classes))"
      ],
      "metadata": {
        "colab": {
          "base_uri": "https://localhost:8080/"
        },
        "id": "H-xSSRpH6_sq",
        "outputId": "740ad406-b7b8-47b9-f8f3-ecc06a4051d7"
      },
      "execution_count": null,
      "outputs": [
        {
          "output_type": "stream",
          "name": "stderr",
          "text": [
            "/usr/local/lib/python3.10/dist-packages/keras/src/layers/core/dense.py:87: UserWarning: Do not pass an `input_shape`/`input_dim` argument to a layer. When using Sequential models, prefer using an `Input(shape)` object as the first layer in the model instead.\n",
            "  super().__init__(activity_regularizer=activity_regularizer, **kwargs)\n"
          ]
        },
        {
          "output_type": "stream",
          "name": "stdout",
          "text": [
            "Epoch 1/50\n",
            "\u001b[1m12/12\u001b[0m \u001b[32m━━━━━━━━━━━━━━━━━━━━\u001b[0m\u001b[37m\u001b[0m \u001b[1m1s\u001b[0m 2ms/step - accuracy: 0.4914 - loss: 0.9309\n",
            "Epoch 2/50\n",
            "\u001b[1m12/12\u001b[0m \u001b[32m━━━━━━━━━━━━━━━━━━━━\u001b[0m\u001b[37m\u001b[0m \u001b[1m0s\u001b[0m 2ms/step - accuracy: 0.6188 - loss: 0.8714  \n",
            "Epoch 3/50\n",
            "\u001b[1m12/12\u001b[0m \u001b[32m━━━━━━━━━━━━━━━━━━━━\u001b[0m\u001b[37m\u001b[0m \u001b[1m0s\u001b[0m 2ms/step - accuracy: 0.5474 - loss: 0.8829 \n",
            "Epoch 4/50\n",
            "\u001b[1m12/12\u001b[0m \u001b[32m━━━━━━━━━━━━━━━━━━━━\u001b[0m\u001b[37m\u001b[0m \u001b[1m0s\u001b[0m 2ms/step - accuracy: 0.5782 - loss: 0.8127 \n",
            "Epoch 5/50\n",
            "\u001b[1m12/12\u001b[0m \u001b[32m━━━━━━━━━━━━━━━━━━━━\u001b[0m\u001b[37m\u001b[0m \u001b[1m0s\u001b[0m 2ms/step - accuracy: 0.7057 - loss: 0.7146 \n",
            "Epoch 6/50\n",
            "\u001b[1m12/12\u001b[0m \u001b[32m━━━━━━━━━━━━━━━━━━━━\u001b[0m\u001b[37m\u001b[0m \u001b[1m0s\u001b[0m 2ms/step - accuracy: 0.6838 - loss: 0.7483 \n",
            "Epoch 7/50\n",
            "\u001b[1m12/12\u001b[0m \u001b[32m━━━━━━━━━━━━━━━━━━━━\u001b[0m\u001b[37m\u001b[0m \u001b[1m0s\u001b[0m 2ms/step - accuracy: 0.6816 - loss: 0.7334 \n",
            "Epoch 8/50\n",
            "\u001b[1m12/12\u001b[0m \u001b[32m━━━━━━━━━━━━━━━━━━━━\u001b[0m\u001b[37m\u001b[0m \u001b[1m0s\u001b[0m 2ms/step - accuracy: 0.7240 - loss: 0.6373 \n",
            "Epoch 9/50\n",
            "\u001b[1m12/12\u001b[0m \u001b[32m━━━━━━━━━━━━━━━━━━━━\u001b[0m\u001b[37m\u001b[0m \u001b[1m0s\u001b[0m 2ms/step - accuracy: 0.6885 - loss: 0.6451 \n",
            "Epoch 10/50\n",
            "\u001b[1m12/12\u001b[0m \u001b[32m━━━━━━━━━━━━━━━━━━━━\u001b[0m\u001b[37m\u001b[0m \u001b[1m0s\u001b[0m 2ms/step - accuracy: 0.7222 - loss: 0.6024 \n",
            "Epoch 11/50\n",
            "\u001b[1m12/12\u001b[0m \u001b[32m━━━━━━━━━━━━━━━━━━━━\u001b[0m\u001b[37m\u001b[0m \u001b[1m0s\u001b[0m 2ms/step - accuracy: 0.7636 - loss: 0.6196 \n",
            "Epoch 12/50\n",
            "\u001b[1m12/12\u001b[0m \u001b[32m━━━━━━━━━━━━━━━━━━━━\u001b[0m\u001b[37m\u001b[0m \u001b[1m0s\u001b[0m 2ms/step - accuracy: 0.8244 - loss: 0.5638 \n",
            "Epoch 13/50\n",
            "\u001b[1m12/12\u001b[0m \u001b[32m━━━━━━━━━━━━━━━━━━━━\u001b[0m\u001b[37m\u001b[0m \u001b[1m0s\u001b[0m 2ms/step - accuracy: 0.7160 - loss: 0.5861 \n",
            "Epoch 14/50\n",
            "\u001b[1m12/12\u001b[0m \u001b[32m━━━━━━━━━━━━━━━━━━━━\u001b[0m\u001b[37m\u001b[0m \u001b[1m0s\u001b[0m 2ms/step - accuracy: 0.8352 - loss: 0.5303 \n",
            "Epoch 15/50\n",
            "\u001b[1m12/12\u001b[0m \u001b[32m━━━━━━━━━━━━━━━━━━━━\u001b[0m\u001b[37m\u001b[0m \u001b[1m0s\u001b[0m 2ms/step - accuracy: 0.7838 - loss: 0.5627 \n",
            "Epoch 16/50\n",
            "\u001b[1m12/12\u001b[0m \u001b[32m━━━━━━━━━━━━━━━━━━━━\u001b[0m\u001b[37m\u001b[0m \u001b[1m0s\u001b[0m 2ms/step - accuracy: 0.8405 - loss: 0.4835 \n",
            "Epoch 17/50\n",
            "\u001b[1m12/12\u001b[0m \u001b[32m━━━━━━━━━━━━━━━━━━━━\u001b[0m\u001b[37m\u001b[0m \u001b[1m0s\u001b[0m 2ms/step - accuracy: 0.8004 - loss: 0.5198 \n",
            "Epoch 18/50\n",
            "\u001b[1m12/12\u001b[0m \u001b[32m━━━━━━━━━━━━━━━━━━━━\u001b[0m\u001b[37m\u001b[0m \u001b[1m0s\u001b[0m 2ms/step - accuracy: 0.7512 - loss: 0.5772 \n",
            "Epoch 19/50\n",
            "\u001b[1m12/12\u001b[0m \u001b[32m━━━━━━━━━━━━━━━━━━━━\u001b[0m\u001b[37m\u001b[0m \u001b[1m0s\u001b[0m 2ms/step - accuracy: 0.8427 - loss: 0.4689 \n",
            "Epoch 20/50\n",
            "\u001b[1m12/12\u001b[0m \u001b[32m━━━━━━━━━━━━━━━━━━━━\u001b[0m\u001b[37m\u001b[0m \u001b[1m0s\u001b[0m 2ms/step - accuracy: 0.8036 - loss: 0.5110 \n",
            "Epoch 21/50\n",
            "\u001b[1m12/12\u001b[0m \u001b[32m━━━━━━━━━━━━━━━━━━━━\u001b[0m\u001b[37m\u001b[0m \u001b[1m0s\u001b[0m 2ms/step - accuracy: 0.8546 - loss: 0.4481 \n",
            "Epoch 22/50\n",
            "\u001b[1m12/12\u001b[0m \u001b[32m━━━━━━━━━━━━━━━━━━━━\u001b[0m\u001b[37m\u001b[0m \u001b[1m0s\u001b[0m 2ms/step - accuracy: 0.8346 - loss: 0.4467 \n",
            "Epoch 23/50\n",
            "\u001b[1m12/12\u001b[0m \u001b[32m━━━━━━━━━━━━━━━━━━━━\u001b[0m\u001b[37m\u001b[0m \u001b[1m0s\u001b[0m 2ms/step - accuracy: 0.7972 - loss: 0.4764 \n",
            "Epoch 24/50\n",
            "\u001b[1m12/12\u001b[0m \u001b[32m━━━━━━━━━━━━━━━━━━━━\u001b[0m\u001b[37m\u001b[0m \u001b[1m0s\u001b[0m 2ms/step - accuracy: 0.7976 - loss: 0.5110 \n",
            "Epoch 25/50\n",
            "\u001b[1m12/12\u001b[0m \u001b[32m━━━━━━━━━━━━━━━━━━━━\u001b[0m\u001b[37m\u001b[0m \u001b[1m0s\u001b[0m 3ms/step - accuracy: 0.8581 - loss: 0.4025 \n",
            "Epoch 26/50\n",
            "\u001b[1m12/12\u001b[0m \u001b[32m━━━━━━━━━━━━━━━━━━━━\u001b[0m\u001b[37m\u001b[0m \u001b[1m0s\u001b[0m 2ms/step - accuracy: 0.8013 - loss: 0.4948 \n",
            "Epoch 27/50\n",
            "\u001b[1m12/12\u001b[0m \u001b[32m━━━━━━━━━━━━━━━━━━━━\u001b[0m\u001b[37m\u001b[0m \u001b[1m0s\u001b[0m 2ms/step - accuracy: 0.8474 - loss: 0.4197 \n",
            "Epoch 28/50\n",
            "\u001b[1m12/12\u001b[0m \u001b[32m━━━━━━━━━━━━━━━━━━━━\u001b[0m\u001b[37m\u001b[0m \u001b[1m0s\u001b[0m 2ms/step - accuracy: 0.8064 - loss: 0.4330 \n",
            "Epoch 29/50\n",
            "\u001b[1m12/12\u001b[0m \u001b[32m━━━━━━━━━━━━━━━━━━━━\u001b[0m\u001b[37m\u001b[0m \u001b[1m0s\u001b[0m 2ms/step - accuracy: 0.7702 - loss: 0.4628 \n",
            "Epoch 30/50\n",
            "\u001b[1m12/12\u001b[0m \u001b[32m━━━━━━━━━━━━━━━━━━━━\u001b[0m\u001b[37m\u001b[0m \u001b[1m0s\u001b[0m 2ms/step - accuracy: 0.8240 - loss: 0.3978 \n",
            "Epoch 31/50\n",
            "\u001b[1m12/12\u001b[0m \u001b[32m━━━━━━━━━━━━━━━━━━━━\u001b[0m\u001b[37m\u001b[0m \u001b[1m0s\u001b[0m 2ms/step - accuracy: 0.7690 - loss: 0.4073 \n",
            "Epoch 32/50\n",
            "\u001b[1m12/12\u001b[0m \u001b[32m━━━━━━━━━━━━━━━━━━━━\u001b[0m\u001b[37m\u001b[0m \u001b[1m0s\u001b[0m 2ms/step - accuracy: 0.8262 - loss: 0.4089 \n",
            "Epoch 33/50\n",
            "\u001b[1m12/12\u001b[0m \u001b[32m━━━━━━━━━━━━━━━━━━━━\u001b[0m\u001b[37m\u001b[0m \u001b[1m0s\u001b[0m 2ms/step - accuracy: 0.8613 - loss: 0.3681 \n",
            "Epoch 34/50\n",
            "\u001b[1m12/12\u001b[0m \u001b[32m━━━━━━━━━━━━━━━━━━━━\u001b[0m\u001b[37m\u001b[0m \u001b[1m0s\u001b[0m 2ms/step - accuracy: 0.7533 - loss: 0.4357 \n",
            "Epoch 35/50\n",
            "\u001b[1m12/12\u001b[0m \u001b[32m━━━━━━━━━━━━━━━━━━━━\u001b[0m\u001b[37m\u001b[0m \u001b[1m0s\u001b[0m 2ms/step - accuracy: 0.7876 - loss: 0.4278 \n",
            "Epoch 36/50\n",
            "\u001b[1m12/12\u001b[0m \u001b[32m━━━━━━━━━━━━━━━━━━━━\u001b[0m\u001b[37m\u001b[0m \u001b[1m0s\u001b[0m 2ms/step - accuracy: 0.8365 - loss: 0.3901 \n",
            "Epoch 37/50\n",
            "\u001b[1m12/12\u001b[0m \u001b[32m━━━━━━━━━━━━━━━━━━━━\u001b[0m\u001b[37m\u001b[0m \u001b[1m0s\u001b[0m 2ms/step - accuracy: 0.8036 - loss: 0.3871 \n",
            "Epoch 38/50\n",
            "\u001b[1m12/12\u001b[0m \u001b[32m━━━━━━━━━━━━━━━━━━━━\u001b[0m\u001b[37m\u001b[0m \u001b[1m0s\u001b[0m 2ms/step - accuracy: 0.8375 - loss: 0.4017 \n",
            "Epoch 39/50\n",
            "\u001b[1m12/12\u001b[0m \u001b[32m━━━━━━━━━━━━━━━━━━━━\u001b[0m\u001b[37m\u001b[0m \u001b[1m0s\u001b[0m 2ms/step - accuracy: 0.7988 - loss: 0.4150 \n",
            "Epoch 40/50\n",
            "\u001b[1m12/12\u001b[0m \u001b[32m━━━━━━━━━━━━━━━━━━━━\u001b[0m\u001b[37m\u001b[0m \u001b[1m0s\u001b[0m 3ms/step - accuracy: 0.8614 - loss: 0.3387 \n",
            "Epoch 41/50\n",
            "\u001b[1m12/12\u001b[0m \u001b[32m━━━━━━━━━━━━━━━━━━━━\u001b[0m\u001b[37m\u001b[0m \u001b[1m0s\u001b[0m 2ms/step - accuracy: 0.8123 - loss: 0.3961  \n",
            "Epoch 42/50\n",
            "\u001b[1m12/12\u001b[0m \u001b[32m━━━━━━━━━━━━━━━━━━━━\u001b[0m\u001b[37m\u001b[0m \u001b[1m0s\u001b[0m 2ms/step - accuracy: 0.8066 - loss: 0.3974 \n",
            "Epoch 43/50\n",
            "\u001b[1m12/12\u001b[0m \u001b[32m━━━━━━━━━━━━━━━━━━━━\u001b[0m\u001b[37m\u001b[0m \u001b[1m0s\u001b[0m 2ms/step - accuracy: 0.7945 - loss: 0.3797 \n",
            "Epoch 44/50\n",
            "\u001b[1m12/12\u001b[0m \u001b[32m━━━━━━━━━━━━━━━━━━━━\u001b[0m\u001b[37m\u001b[0m \u001b[1m0s\u001b[0m 2ms/step - accuracy: 0.8296 - loss: 0.3742 \n",
            "Epoch 45/50\n",
            "\u001b[1m12/12\u001b[0m \u001b[32m━━━━━━━━━━━━━━━━━━━━\u001b[0m\u001b[37m\u001b[0m \u001b[1m0s\u001b[0m 2ms/step - accuracy: 0.8352 - loss: 0.3559 \n",
            "Epoch 46/50\n",
            "\u001b[1m12/12\u001b[0m \u001b[32m━━━━━━━━━━━━━━━━━━━━\u001b[0m\u001b[37m\u001b[0m \u001b[1m0s\u001b[0m 2ms/step - accuracy: 0.8713 - loss: 0.3372 \n",
            "Epoch 47/50\n",
            "\u001b[1m12/12\u001b[0m \u001b[32m━━━━━━━━━━━━━━━━━━━━\u001b[0m\u001b[37m\u001b[0m \u001b[1m0s\u001b[0m 2ms/step - accuracy: 0.8560 - loss: 0.3528 \n",
            "Epoch 48/50\n",
            "\u001b[1m12/12\u001b[0m \u001b[32m━━━━━━━━━━━━━━━━━━━━\u001b[0m\u001b[37m\u001b[0m \u001b[1m0s\u001b[0m 2ms/step - accuracy: 0.8636 - loss: 0.3418 \n",
            "Epoch 49/50\n",
            "\u001b[1m12/12\u001b[0m \u001b[32m━━━━━━━━━━━━━━━━━━━━\u001b[0m\u001b[37m\u001b[0m \u001b[1m0s\u001b[0m 2ms/step - accuracy: 0.8112 - loss: 0.3716 \n",
            "Epoch 50/50\n",
            "\u001b[1m12/12\u001b[0m \u001b[32m━━━━━━━━━━━━━━━━━━━━\u001b[0m\u001b[37m\u001b[0m \u001b[1m0s\u001b[0m 2ms/step - accuracy: 0.8598 - loss: 0.3221 \n",
            "Test loss: 0.3065924644470215\n",
            "Test accuracy: 0.9333333373069763\n",
            "\u001b[1m1/1\u001b[0m \u001b[32m━━━━━━━━━━━━━━━━━━━━\u001b[0m\u001b[37m\u001b[0m \u001b[1m0s\u001b[0m 57ms/step\n",
            "              precision    recall  f1-score   support\n",
            "\n",
            "           0       1.00      1.00      1.00        10\n",
            "           1       1.00      0.78      0.88         9\n",
            "           2       0.85      1.00      0.92        11\n",
            "\n",
            "    accuracy                           0.93        30\n",
            "   macro avg       0.95      0.93      0.93        30\n",
            "weighted avg       0.94      0.93      0.93        30\n",
            "\n",
            "[[10  0  0]\n",
            " [ 0  7  2]\n",
            " [ 0  0 11]]\n"
          ]
        }
      ]
    },
    {
      "cell_type": "markdown",
      "source": [
        "### Neural network for classification"
      ],
      "metadata": {
        "id": "6uSf1OuyWHII"
      }
    },
    {
      "cell_type": "code",
      "source": [
        "import tensorflow as tf\n",
        "from tensorflow import keras\n",
        "from sklearn.datasets import load_iris\n",
        "from sklearn.model_selection import train_test_split\n",
        "from sklearn.preprocessing import StandardScaler\n",
        "from sklearn.metrics import classification_report, confusion_matrix\n",
        "\n",
        "# Load the Iris dataset\n",
        "iris = load_iris()\n",
        "X = iris.data\n",
        "y = iris.target\n",
        "\n",
        "# Split data into training and testing sets\n",
        "X_train, X_test, y_train, y_test = train_test_split(X, y, test_size=0.2, random_state=42)\n",
        "\n",
        "# Scale the data\n",
        "scaler = StandardScaler()\n",
        "X_train = scaler.fit_transform(X_train)\n",
        "X_test = scaler.transform(X_test)\n",
        "\n",
        "# Convert labels to one-hot encoding\n",
        "y_train = keras.utils.to_categorical(y_train, num_classes=3)\n",
        "y_test = keras.utils.to_categorical(y_test, num_classes=3)\n",
        "\n",
        "# Define the neural network model for classification\n",
        "model = keras.Sequential([\n",
        "    keras.layers.Dense(10, activation='relu', input_shape=(4,)),\n",
        "    keras.layers.Dense(3, activation='softmax')  # 3 output units for 3 classes\n",
        "])\n",
        "\n",
        "# Compile the model\n",
        "model.compile(optimizer='adam', loss='categorical_crossentropy', metrics=['accuracy'])\n",
        "\n",
        "# Train the model\n",
        "model.fit(X_train, y_train, epochs=50, batch_size=10, verbose=1)\n",
        "\n",
        "# Evaluate the model\n",
        "loss, accuracy = model.evaluate(X_test, y_test, verbose=0)\n",
        "print('Test loss:', loss)\n",
        "print('Test accuracy:', accuracy)\n",
        "\n",
        "# Make predictions\n",
        "y_pred = model.predict(X_test)\n",
        "y_pred_classes = y_pred.argmax(axis=1)  # Predicted class labels\n",
        "y_true_classes = y_test.argmax(axis=1)  # True class labels\n",
        "\n",
        "# Analyze performance using confusion matrix and classification report\n",
        "print(\"Classification Report:\\n\", classification_report(y_true_classes, y_pred_classes))\n",
        "print(\"Confusion Matrix:\\n\", confusion_matrix(y_true_classes, y_pred_classes))\n"
      ],
      "metadata": {
        "colab": {
          "base_uri": "https://localhost:8080/"
        },
        "id": "LOjgpIq-LMWP",
        "outputId": "bce1ea28-69b3-4829-a4d3-ae66219d0080"
      },
      "execution_count": null,
      "outputs": [
        {
          "output_type": "stream",
          "name": "stderr",
          "text": [
            "/usr/local/lib/python3.10/dist-packages/keras/src/layers/core/dense.py:87: UserWarning: Do not pass an `input_shape`/`input_dim` argument to a layer. When using Sequential models, prefer using an `Input(shape)` object as the first layer in the model instead.\n",
            "  super().__init__(activity_regularizer=activity_regularizer, **kwargs)\n"
          ]
        },
        {
          "output_type": "stream",
          "name": "stdout",
          "text": [
            "Epoch 1/50\n",
            "\u001b[1m12/12\u001b[0m \u001b[32m━━━━━━━━━━━━━━━━━━━━\u001b[0m\u001b[37m\u001b[0m \u001b[1m2s\u001b[0m 3ms/step - accuracy: 0.4721 - loss: 1.0355\n",
            "Epoch 2/50\n",
            "\u001b[1m12/12\u001b[0m \u001b[32m━━━━━━━━━━━━━━━━━━━━\u001b[0m\u001b[37m\u001b[0m \u001b[1m0s\u001b[0m 4ms/step - accuracy: 0.4959 - loss: 0.9800  \n",
            "Epoch 3/50\n",
            "\u001b[1m12/12\u001b[0m \u001b[32m━━━━━━━━━━━━━━━━━━━━\u001b[0m\u001b[37m\u001b[0m \u001b[1m0s\u001b[0m 3ms/step - accuracy: 0.5237 - loss: 0.9557 \n",
            "Epoch 4/50\n",
            "\u001b[1m12/12\u001b[0m \u001b[32m━━━━━━━━━━━━━━━━━━━━\u001b[0m\u001b[37m\u001b[0m \u001b[1m0s\u001b[0m 3ms/step - accuracy: 0.5919 - loss: 0.8798 \n",
            "Epoch 5/50\n",
            "\u001b[1m12/12\u001b[0m \u001b[32m━━━━━━━━━━━━━━━━━━━━\u001b[0m\u001b[37m\u001b[0m \u001b[1m0s\u001b[0m 3ms/step - accuracy: 0.6475 - loss: 0.8391  \n",
            "Epoch 6/50\n",
            "\u001b[1m12/12\u001b[0m \u001b[32m━━━━━━━━━━━━━━━━━━━━\u001b[0m\u001b[37m\u001b[0m \u001b[1m0s\u001b[0m 3ms/step - accuracy: 0.6756 - loss: 0.8006  \n",
            "Epoch 7/50\n",
            "\u001b[1m12/12\u001b[0m \u001b[32m━━━━━━━━━━━━━━━━━━━━\u001b[0m\u001b[37m\u001b[0m \u001b[1m0s\u001b[0m 4ms/step - accuracy: 0.6896 - loss: 0.7370  \n",
            "Epoch 8/50\n",
            "\u001b[1m12/12\u001b[0m \u001b[32m━━━━━━━━━━━━━━━━━━━━\u001b[0m\u001b[37m\u001b[0m \u001b[1m0s\u001b[0m 4ms/step - accuracy: 0.7128 - loss: 0.7156 \n",
            "Epoch 9/50\n",
            "\u001b[1m12/12\u001b[0m \u001b[32m━━━━━━━━━━━━━━━━━━━━\u001b[0m\u001b[37m\u001b[0m \u001b[1m0s\u001b[0m 6ms/step - accuracy: 0.7801 - loss: 0.6840\n",
            "Epoch 10/50\n",
            "\u001b[1m12/12\u001b[0m \u001b[32m━━━━━━━━━━━━━━━━━━━━\u001b[0m\u001b[37m\u001b[0m \u001b[1m0s\u001b[0m 3ms/step - accuracy: 0.8097 - loss: 0.6305 \n",
            "Epoch 11/50\n",
            "\u001b[1m12/12\u001b[0m \u001b[32m━━━━━━━━━━━━━━━━━━━━\u001b[0m\u001b[37m\u001b[0m \u001b[1m0s\u001b[0m 4ms/step - accuracy: 0.7877 - loss: 0.6250 \n",
            "Epoch 12/50\n",
            "\u001b[1m12/12\u001b[0m \u001b[32m━━━━━━━━━━━━━━━━━━━━\u001b[0m\u001b[37m\u001b[0m \u001b[1m0s\u001b[0m 3ms/step - accuracy: 0.7268 - loss: 0.6269 \n",
            "Epoch 13/50\n",
            "\u001b[1m12/12\u001b[0m \u001b[32m━━━━━━━━━━━━━━━━━━━━\u001b[0m\u001b[37m\u001b[0m \u001b[1m0s\u001b[0m 3ms/step - accuracy: 0.8134 - loss: 0.5728 \n",
            "Epoch 14/50\n",
            "\u001b[1m12/12\u001b[0m \u001b[32m━━━━━━━━━━━━━━━━━━━━\u001b[0m\u001b[37m\u001b[0m \u001b[1m0s\u001b[0m 3ms/step - accuracy: 0.8138 - loss: 0.5293 \n",
            "Epoch 15/50\n",
            "\u001b[1m12/12\u001b[0m \u001b[32m━━━━━━━━━━━━━━━━━━━━\u001b[0m\u001b[37m\u001b[0m \u001b[1m0s\u001b[0m 13ms/step - accuracy: 0.8755 - loss: 0.4955\n",
            "Epoch 16/50\n",
            "\u001b[1m12/12\u001b[0m \u001b[32m━━━━━━━━━━━━━━━━━━━━\u001b[0m\u001b[37m\u001b[0m \u001b[1m0s\u001b[0m 3ms/step - accuracy: 0.8115 - loss: 0.5262  \n",
            "Epoch 17/50\n",
            "\u001b[1m12/12\u001b[0m \u001b[32m━━━━━━━━━━━━━━━━━━━━\u001b[0m\u001b[37m\u001b[0m \u001b[1m0s\u001b[0m 4ms/step - accuracy: 0.7947 - loss: 0.5642  \n",
            "Epoch 18/50\n",
            "\u001b[1m12/12\u001b[0m \u001b[32m━━━━━━━━━━━━━━━━━━━━\u001b[0m\u001b[37m\u001b[0m \u001b[1m0s\u001b[0m 3ms/step - accuracy: 0.8136 - loss: 0.4816 \n",
            "Epoch 19/50\n",
            "\u001b[1m12/12\u001b[0m \u001b[32m━━━━━━━━━━━━━━━━━━━━\u001b[0m\u001b[37m\u001b[0m \u001b[1m0s\u001b[0m 8ms/step - accuracy: 0.8514 - loss: 0.4776\n",
            "Epoch 20/50\n",
            "\u001b[1m12/12\u001b[0m \u001b[32m━━━━━━━━━━━━━━━━━━━━\u001b[0m\u001b[37m\u001b[0m \u001b[1m0s\u001b[0m 4ms/step - accuracy: 0.8814 - loss: 0.4004 \n",
            "Epoch 21/50\n",
            "\u001b[1m12/12\u001b[0m \u001b[32m━━━━━━━━━━━━━━━━━━━━\u001b[0m\u001b[37m\u001b[0m \u001b[1m0s\u001b[0m 3ms/step - accuracy: 0.8646 - loss: 0.4482  \n",
            "Epoch 22/50\n",
            "\u001b[1m12/12\u001b[0m \u001b[32m━━━━━━━━━━━━━━━━━━━━\u001b[0m\u001b[37m\u001b[0m \u001b[1m0s\u001b[0m 4ms/step - accuracy: 0.8469 - loss: 0.4201  \n",
            "Epoch 23/50\n",
            "\u001b[1m12/12\u001b[0m \u001b[32m━━━━━━━━━━━━━━━━━━━━\u001b[0m\u001b[37m\u001b[0m \u001b[1m0s\u001b[0m 3ms/step - accuracy: 0.8737 - loss: 0.3932  \n",
            "Epoch 24/50\n",
            "\u001b[1m12/12\u001b[0m \u001b[32m━━━━━━━━━━━━━━━━━━━━\u001b[0m\u001b[37m\u001b[0m \u001b[1m0s\u001b[0m 3ms/step - accuracy: 0.8640 - loss: 0.3984 \n",
            "Epoch 25/50\n",
            "\u001b[1m12/12\u001b[0m \u001b[32m━━━━━━━━━━━━━━━━━━━━\u001b[0m\u001b[37m\u001b[0m \u001b[1m0s\u001b[0m 2ms/step - accuracy: 0.8786 - loss: 0.3608 \n",
            "Epoch 26/50\n",
            "\u001b[1m12/12\u001b[0m \u001b[32m━━━━━━━━━━━━━━━━━━━━\u001b[0m\u001b[37m\u001b[0m \u001b[1m0s\u001b[0m 3ms/step - accuracy: 0.8405 - loss: 0.3914 \n",
            "Epoch 27/50\n",
            "\u001b[1m12/12\u001b[0m \u001b[32m━━━━━━━━━━━━━━━━━━━━\u001b[0m\u001b[37m\u001b[0m \u001b[1m0s\u001b[0m 2ms/step - accuracy: 0.8934 - loss: 0.3545  \n",
            "Epoch 28/50\n",
            "\u001b[1m12/12\u001b[0m \u001b[32m━━━━━━━━━━━━━━━━━━━━\u001b[0m\u001b[37m\u001b[0m \u001b[1m0s\u001b[0m 2ms/step - accuracy: 0.8550 - loss: 0.3650 \n",
            "Epoch 29/50\n",
            "\u001b[1m12/12\u001b[0m \u001b[32m━━━━━━━━━━━━━━━━━━━━\u001b[0m\u001b[37m\u001b[0m \u001b[1m0s\u001b[0m 2ms/step - accuracy: 0.8426 - loss: 0.3600 \n",
            "Epoch 30/50\n",
            "\u001b[1m12/12\u001b[0m \u001b[32m━━━━━━━━━━━━━━━━━━━━\u001b[0m\u001b[37m\u001b[0m \u001b[1m0s\u001b[0m 2ms/step - accuracy: 0.8646 - loss: 0.3926 \n",
            "Epoch 31/50\n",
            "\u001b[1m12/12\u001b[0m \u001b[32m━━━━━━━━━━━━━━━━━━━━\u001b[0m\u001b[37m\u001b[0m \u001b[1m0s\u001b[0m 4ms/step - accuracy: 0.8536 - loss: 0.3646 \n",
            "Epoch 32/50\n",
            "\u001b[1m12/12\u001b[0m \u001b[32m━━━━━━━━━━━━━━━━━━━━\u001b[0m\u001b[37m\u001b[0m \u001b[1m0s\u001b[0m 4ms/step - accuracy: 0.8776 - loss: 0.3481 \n",
            "Epoch 33/50\n",
            "\u001b[1m12/12\u001b[0m \u001b[32m━━━━━━━━━━━━━━━━━━━━\u001b[0m\u001b[37m\u001b[0m \u001b[1m0s\u001b[0m 4ms/step - accuracy: 0.8940 - loss: 0.3280 \n",
            "Epoch 34/50\n",
            "\u001b[1m12/12\u001b[0m \u001b[32m━━━━━━━━━━━━━━━━━━━━\u001b[0m\u001b[37m\u001b[0m \u001b[1m0s\u001b[0m 8ms/step - accuracy: 0.8381 - loss: 0.3366 \n",
            "Epoch 35/50\n",
            "\u001b[1m12/12\u001b[0m \u001b[32m━━━━━━━━━━━━━━━━━━━━\u001b[0m\u001b[37m\u001b[0m \u001b[1m0s\u001b[0m 2ms/step - accuracy: 0.8759 - loss: 0.3266  \n",
            "Epoch 36/50\n",
            "\u001b[1m12/12\u001b[0m \u001b[32m━━━━━━━━━━━━━━━━━━━━\u001b[0m\u001b[37m\u001b[0m \u001b[1m0s\u001b[0m 2ms/step - accuracy: 0.8569 - loss: 0.3534 \n",
            "Epoch 37/50\n",
            "\u001b[1m12/12\u001b[0m \u001b[32m━━━━━━━━━━━━━━━━━━━━\u001b[0m\u001b[37m\u001b[0m \u001b[1m0s\u001b[0m 3ms/step - accuracy: 0.9159 - loss: 0.2983  \n",
            "Epoch 38/50\n",
            "\u001b[1m12/12\u001b[0m \u001b[32m━━━━━━━━━━━━━━━━━━━━\u001b[0m\u001b[37m\u001b[0m \u001b[1m0s\u001b[0m 7ms/step - accuracy: 0.8975 - loss: 0.3110\n",
            "Epoch 39/50\n",
            "\u001b[1m12/12\u001b[0m \u001b[32m━━━━━━━━━━━━━━━━━━━━\u001b[0m\u001b[37m\u001b[0m \u001b[1m0s\u001b[0m 6ms/step - accuracy: 0.8645 - loss: 0.2935\n",
            "Epoch 40/50\n",
            "\u001b[1m12/12\u001b[0m \u001b[32m━━━━━━━━━━━━━━━━━━━━\u001b[0m\u001b[37m\u001b[0m \u001b[1m0s\u001b[0m 4ms/step - accuracy: 0.8394 - loss: 0.3478  \n",
            "Epoch 41/50\n",
            "\u001b[1m12/12\u001b[0m \u001b[32m━━━━━━━━━━━━━━━━━━━━\u001b[0m\u001b[37m\u001b[0m \u001b[1m0s\u001b[0m 6ms/step - accuracy: 0.8265 - loss: 0.3224\n",
            "Epoch 42/50\n",
            "\u001b[1m12/12\u001b[0m \u001b[32m━━━━━━━━━━━━━━━━━━━━\u001b[0m\u001b[37m\u001b[0m \u001b[1m0s\u001b[0m 3ms/step - accuracy: 0.9164 - loss: 0.2925  \n",
            "Epoch 43/50\n",
            "\u001b[1m12/12\u001b[0m \u001b[32m━━━━━━━━━━━━━━━━━━━━\u001b[0m\u001b[37m\u001b[0m \u001b[1m0s\u001b[0m 3ms/step - accuracy: 0.8619 - loss: 0.3214 \n",
            "Epoch 44/50\n",
            "\u001b[1m12/12\u001b[0m \u001b[32m━━━━━━━━━━━━━━━━━━━━\u001b[0m\u001b[37m\u001b[0m \u001b[1m0s\u001b[0m 4ms/step - accuracy: 0.8728 - loss: 0.2956  \n",
            "Epoch 45/50\n",
            "\u001b[1m12/12\u001b[0m \u001b[32m━━━━━━━━━━━━━━━━━━━━\u001b[0m\u001b[37m\u001b[0m \u001b[1m0s\u001b[0m 3ms/step - accuracy: 0.9464 - loss: 0.2530 \n",
            "Epoch 46/50\n",
            "\u001b[1m12/12\u001b[0m \u001b[32m━━━━━━━━━━━━━━━━━━━━\u001b[0m\u001b[37m\u001b[0m \u001b[1m0s\u001b[0m 3ms/step - accuracy: 0.9053 - loss: 0.2873 \n",
            "Epoch 47/50\n",
            "\u001b[1m12/12\u001b[0m \u001b[32m━━━━━━━━━━━━━━━━━━━━\u001b[0m\u001b[37m\u001b[0m \u001b[1m0s\u001b[0m 3ms/step - accuracy: 0.8868 - loss: 0.2999 \n",
            "Epoch 48/50\n",
            "\u001b[1m12/12\u001b[0m \u001b[32m━━━━━━━━━━━━━━━━━━━━\u001b[0m\u001b[37m\u001b[0m \u001b[1m0s\u001b[0m 3ms/step - accuracy: 0.8960 - loss: 0.2882  \n",
            "Epoch 49/50\n",
            "\u001b[1m12/12\u001b[0m \u001b[32m━━━━━━━━━━━━━━━━━━━━\u001b[0m\u001b[37m\u001b[0m \u001b[1m0s\u001b[0m 4ms/step - accuracy: 0.8964 - loss: 0.3050  \n",
            "Epoch 50/50\n",
            "\u001b[1m12/12\u001b[0m \u001b[32m━━━━━━━━━━━━━━━━━━━━\u001b[0m\u001b[37m\u001b[0m \u001b[1m0s\u001b[0m 3ms/step - accuracy: 0.8958 - loss: 0.2814 \n",
            "Test loss: 0.2139023393392563\n",
            "Test accuracy: 0.9333333373069763\n",
            "\u001b[1m1/1\u001b[0m \u001b[32m━━━━━━━━━━━━━━━━━━━━\u001b[0m\u001b[37m\u001b[0m \u001b[1m0s\u001b[0m 45ms/step\n",
            "Classification Report:\n",
            "               precision    recall  f1-score   support\n",
            "\n",
            "           0       1.00      1.00      1.00        10\n",
            "           1       1.00      0.78      0.88         9\n",
            "           2       0.85      1.00      0.92        11\n",
            "\n",
            "    accuracy                           0.93        30\n",
            "   macro avg       0.95      0.93      0.93        30\n",
            "weighted avg       0.94      0.93      0.93        30\n",
            "\n",
            "Confusion Matrix:\n",
            " [[10  0  0]\n",
            " [ 0  7  2]\n",
            " [ 0  0 11]]\n"
          ]
        }
      ]
    },
    {
      "cell_type": "code",
      "source": [],
      "metadata": {
        "id": "I2Keb6ZSWFyT"
      },
      "execution_count": null,
      "outputs": []
    }
  ]
}