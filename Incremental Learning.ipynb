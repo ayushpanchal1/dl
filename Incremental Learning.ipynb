{
 "cells": [
  {
   "cell_type": "code",
   "execution_count": 1,
   "metadata": {},
   "outputs": [
    {
     "name": "stdout",
     "output_type": "stream",
     "text": [
      "Training on batch 1\n",
      "Training on batch 2\n",
      "Training on batch 3\n",
      "Training on batch 4\n",
      "Training on batch 5\n",
      "              precision    recall  f1-score   support\n",
      "\n",
      "           0       0.00      0.00      0.00        60\n",
      "           1       0.39      0.97      0.56        40\n",
      "\n",
      "    accuracy                           0.39       100\n",
      "   macro avg       0.20      0.49      0.28       100\n",
      "weighted avg       0.16      0.39      0.22       100\n",
      "\n"
     ]
    }
   ],
   "source": [
    "from sklearn.linear_model import SGDClassifier\n",
    "from sklearn.metrics import classification_report\n",
    "import numpy as np\n",
    "\n",
    "# Creating a synthetic dataset for binary classification\n",
    "np.random.seed(42)\n",
    "X = np.random.rand(100, 5)  # 100 samples, 5 features\n",
    "y = np.random.choice([0, 1], size=100)  # binary labels\n",
    "\n",
    "# Split dataset into parts for incremental training\n",
    "batch_size = 20\n",
    "model = SGDClassifier(max_iter=1000, tol=1e-3)\n",
    "\n",
    "# Incremental training over 5 batches\n",
    "for i in range(0, len(X), batch_size):\n",
    "    X_batch, y_batch = X[i:i + batch_size], y[i:i + batch_size]\n",
    "    model.partial_fit(X_batch, y_batch, classes=np.unique(y))\n",
    "    print(f\"Training on batch {i//batch_size + 1}\")\n",
    "\n",
    "# Testing on remaining data\n",
    "y_pred = model.predict(X)\n",
    "print(classification_report(y, y_pred))\n",
    "\n",
    "# Expected Output: Training on batch 1, 2, ... up to batch 5 and a classification report for the entire dataset.\n"
   ]
  }
 ],
 "metadata": {
  "kernelspec": {
   "display_name": "Python 3",
   "language": "python",
   "name": "python3"
  },
  "language_info": {
   "codemirror_mode": {
    "name": "ipython",
    "version": 3
   },
   "file_extension": ".py",
   "mimetype": "text/x-python",
   "name": "python",
   "nbconvert_exporter": "python",
   "pygments_lexer": "ipython3",
   "version": "3.12.1"
  }
 },
 "nbformat": 4,
 "nbformat_minor": 2
}
