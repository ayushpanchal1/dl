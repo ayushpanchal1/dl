{
 "cells": [
  {
   "cell_type": "code",
   "execution_count": 1,
   "metadata": {},
   "outputs": [
    {
     "name": "stdout",
     "output_type": "stream",
     "text": [
      "   Size_sqft  Bedrooms  Bathrooms  Age_years  Price_kUSD\n",
      "0        917         1          2          9         463\n",
      "1       1311         3          2          8          62\n",
      "2       1486         3          1          1         298\n",
      "3       2027         3          2          8         268\n",
      "4       2741         2          1          3         125\n"
     ]
    }
   ],
   "source": [
    "import pandas as pd\n",
    "import numpy as np\n",
    "\n",
    "# Generate a simple dataset for house price prediction\n",
    "data = {\n",
    "    \"Size_sqft\": np.random.randint(500, 3500, 100),\n",
    "    \"Bedrooms\": np.random.randint(1, 5, 100),\n",
    "    \"Bathrooms\": np.random.randint(1, 3, 100),\n",
    "    \"Age_years\": np.random.randint(1, 30, 100),\n",
    "    \"Price_kUSD\": np.random.randint(50, 500, 100)\n",
    "}\n",
    "\n",
    "# Convert to a DataFrame\n",
    "df = pd.DataFrame(data)\n",
    "\n",
    "# Display the data as a table\n",
    "print(df.head())\n",
    "\n",
    "# Expected Data Format:\n",
    "# | Size_sqft | Bedrooms | Bathrooms | Age_years | Price_kUSD |\n",
    "# |-----------|----------|-----------|-----------|------------|\n",
    "# |  2500     |    3     |    1      |    10     |    300     |\n"
   ]
  }
 ],
 "metadata": {
  "kernelspec": {
   "display_name": "Python 3",
   "language": "python",
   "name": "python3"
  },
  "language_info": {
   "codemirror_mode": {
    "name": "ipython",
    "version": 3
   },
   "file_extension": ".py",
   "mimetype": "text/x-python",
   "name": "python",
   "nbconvert_exporter": "python",
   "pygments_lexer": "ipython3",
   "version": "3.12.1"
  }
 },
 "nbformat": 4,
 "nbformat_minor": 2
}
